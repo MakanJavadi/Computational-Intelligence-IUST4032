{
  "cells": [
    {
      "cell_type": "markdown",
      "metadata": {
        "id": "g6-LK5a-DPL_"
      },
      "source": [
        "# Logistic Regression with SGD Classifier - Homework\n",
        "\n",
        "In this homework, we will implement Logistic Regression using the Stochastic Gradient Descent (SGD) optimizer. We will first implement the model from scratch and then use Scikit-learn's built-in tools to achieve the same goal. Finally, we will compare the results from both approaches.\n",
        "\n",
        "## Dataset: heart.csv\n",
        "\n",
        "The dataset used in this homework contains **13 features** and a **target variable**. The features are as follows:\n",
        "\n",
        "- Age\n",
        "- Sex\n",
        "- Chest pain type\n",
        "- Resting blood pressure\n",
        "- Serum cholesterol\n",
        "- Fasting blood sugar\n",
        "- Resting electrocardiographic results\n",
        "- Thalach (maximum heart rate achieved)\n",
        "- Exercise induced angina\n",
        "- Oldpeak\n",
        "- Slope\n",
        "- Vessels colored by fluoroscopy\n",
        "- Thalassemia\n",
        "\n",
        "### Target Variable:\n",
        "- **Target**: 0 (No Heart Disease), 1 (Heart Disease)\n",
        "\n",
        "We will extract these values from the dataset and use them to train and test our logistic regression models.\n"
      ]
    },
    {
      "cell_type": "markdown",
      "metadata": {
        "id": "tyXL1X_SEZ8R"
      },
      "source": [
        "## Importing Necessary Libraries"
      ]
    },
    {
      "cell_type": "code",
      "execution_count": 2,
      "metadata": {
        "id": "hkyaa3zLDKPo"
      },
      "outputs": [],
      "source": [
        "import numpy as np\n",
        "import pandas as pd\n",
        "import matplotlib.pyplot as plt\n",
        "import seaborn as sns\n",
        "from sklearn.linear_model import SGDClassifier\n",
        "from sklearn.model_selection import train_test_split\n",
        "from sklearn.preprocessing import StandardScaler, LabelEncoder\n",
        "from sklearn.base import BaseEstimator, ClassifierMixin\n",
        "from sklearn.metrics import accuracy_score, confusion_matrix, log_loss\n",
        "\n",
        "import warnings\n",
        "warnings.filterwarnings('ignore')"
      ]
    },
    {
      "cell_type": "markdown",
      "metadata": {
        "id": "qT_kccYTFX9y"
      },
      "source": [
        "## Load the Dataset\n",
        "\n",
        "Load the dataset with Pandas and display some rows.\n"
      ]
    },
    {
      "cell_type": "code",
      "execution_count": 3,
      "metadata": {
        "colab": {
          "base_uri": "https://localhost:8080/",
          "height": 313
        },
        "id": "x3WhXvAmDlDZ",
        "outputId": "79928028-c6f3-4359-8ce4-7f857a2c8ad5"
      },
      "outputs": [
        {
          "data": {
            "application/vnd.google.colaboratory.intrinsic+json": {
              "summary": "{\n  \"name\": \"df\",\n  \"rows\": 1025,\n  \"fields\": [\n    {\n      \"column\": \"age\",\n      \"properties\": {\n        \"dtype\": \"number\",\n        \"std\": 9,\n        \"min\": 29,\n        \"max\": 77,\n        \"num_unique_values\": 41,\n        \"samples\": [\n          65,\n          50,\n          54\n        ],\n        \"semantic_type\": \"\",\n        \"description\": \"\"\n      }\n    },\n    {\n      \"column\": \"sex\",\n      \"properties\": {\n        \"dtype\": \"category\",\n        \"num_unique_values\": 2,\n        \"samples\": [\n          \"Female\",\n          \"Male\"\n        ],\n        \"semantic_type\": \"\",\n        \"description\": \"\"\n      }\n    },\n    {\n      \"column\": \"chest_pain_type\",\n      \"properties\": {\n        \"dtype\": \"category\",\n        \"num_unique_values\": 4,\n        \"samples\": [\n          \"Atypical angina\",\n          \"Asymptomatic\"\n        ],\n        \"semantic_type\": \"\",\n        \"description\": \"\"\n      }\n    },\n    {\n      \"column\": \"resting_blood_pressure\",\n      \"properties\": {\n        \"dtype\": \"number\",\n        \"std\": 17,\n        \"min\": 94,\n        \"max\": 200,\n        \"num_unique_values\": 49,\n        \"samples\": [\n          128,\n          172\n        ],\n        \"semantic_type\": \"\",\n        \"description\": \"\"\n      }\n    },\n    {\n      \"column\": \"cholestoral\",\n      \"properties\": {\n        \"dtype\": \"number\",\n        \"std\": 51,\n        \"min\": 126,\n        \"max\": 564,\n        \"num_unique_values\": 152,\n        \"samples\": [\n          267,\n          262\n        ],\n        \"semantic_type\": \"\",\n        \"description\": \"\"\n      }\n    },\n    {\n      \"column\": \"fasting_blood_sugar\",\n      \"properties\": {\n        \"dtype\": \"category\",\n        \"num_unique_values\": 2,\n        \"samples\": [\n          \"Greater than 120 mg/ml\",\n          \"Lower than 120 mg/ml\"\n        ],\n        \"semantic_type\": \"\",\n        \"description\": \"\"\n      }\n    },\n    {\n      \"column\": \"rest_ecg\",\n      \"properties\": {\n        \"dtype\": \"category\",\n        \"num_unique_values\": 3,\n        \"samples\": [\n          \"ST-T wave abnormality\",\n          \"Normal\"\n        ],\n        \"semantic_type\": \"\",\n        \"description\": \"\"\n      }\n    },\n    {\n      \"column\": \"Max_heart_rate\",\n      \"properties\": {\n        \"dtype\": \"number\",\n        \"std\": 23,\n        \"min\": 71,\n        \"max\": 202,\n        \"num_unique_values\": 91,\n        \"samples\": [\n          180,\n          152\n        ],\n        \"semantic_type\": \"\",\n        \"description\": \"\"\n      }\n    },\n    {\n      \"column\": \"exercise_induced_angina\",\n      \"properties\": {\n        \"dtype\": \"category\",\n        \"num_unique_values\": 2,\n        \"samples\": [\n          \"Yes\",\n          \"No\"\n        ],\n        \"semantic_type\": \"\",\n        \"description\": \"\"\n      }\n    },\n    {\n      \"column\": \"oldpeak\",\n      \"properties\": {\n        \"dtype\": \"number\",\n        \"std\": 1.175053255150173,\n        \"min\": 0.0,\n        \"max\": 6.2,\n        \"num_unique_values\": 40,\n        \"samples\": [\n          2.8,\n          0.4\n        ],\n        \"semantic_type\": \"\",\n        \"description\": \"\"\n      }\n    },\n    {\n      \"column\": \"slope\",\n      \"properties\": {\n        \"dtype\": \"category\",\n        \"num_unique_values\": 3,\n        \"samples\": [\n          \"Downsloping\",\n          \"Upsloping\"\n        ],\n        \"semantic_type\": \"\",\n        \"description\": \"\"\n      }\n    },\n    {\n      \"column\": \"vessels_colored_by_flourosopy\",\n      \"properties\": {\n        \"dtype\": \"category\",\n        \"num_unique_values\": 5,\n        \"samples\": [\n          \"Zero\",\n          \"Four\"\n        ],\n        \"semantic_type\": \"\",\n        \"description\": \"\"\n      }\n    },\n    {\n      \"column\": \"thalassemia\",\n      \"properties\": {\n        \"dtype\": \"category\",\n        \"num_unique_values\": 4,\n        \"samples\": [\n          \"Fixed Defect\",\n          \"No\"\n        ],\n        \"semantic_type\": \"\",\n        \"description\": \"\"\n      }\n    },\n    {\n      \"column\": \"target\",\n      \"properties\": {\n        \"dtype\": \"number\",\n        \"std\": 0,\n        \"min\": 0,\n        \"max\": 1,\n        \"num_unique_values\": 2,\n        \"samples\": [\n          1,\n          0\n        ],\n        \"semantic_type\": \"\",\n        \"description\": \"\"\n      }\n    }\n  ]\n}",
              "type": "dataframe",
              "variable_name": "df"
            },
            "text/html": [
              "\n",
              "  <div id=\"df-988ec004-58b5-47d0-84d3-61b1da2115c6\" class=\"colab-df-container\">\n",
              "    <div>\n",
              "<style scoped>\n",
              "    .dataframe tbody tr th:only-of-type {\n",
              "        vertical-align: middle;\n",
              "    }\n",
              "\n",
              "    .dataframe tbody tr th {\n",
              "        vertical-align: top;\n",
              "    }\n",
              "\n",
              "    .dataframe thead th {\n",
              "        text-align: right;\n",
              "    }\n",
              "</style>\n",
              "<table border=\"1\" class=\"dataframe\">\n",
              "  <thead>\n",
              "    <tr style=\"text-align: right;\">\n",
              "      <th></th>\n",
              "      <th>age</th>\n",
              "      <th>sex</th>\n",
              "      <th>chest_pain_type</th>\n",
              "      <th>resting_blood_pressure</th>\n",
              "      <th>cholestoral</th>\n",
              "      <th>fasting_blood_sugar</th>\n",
              "      <th>rest_ecg</th>\n",
              "      <th>Max_heart_rate</th>\n",
              "      <th>exercise_induced_angina</th>\n",
              "      <th>oldpeak</th>\n",
              "      <th>slope</th>\n",
              "      <th>vessels_colored_by_flourosopy</th>\n",
              "      <th>thalassemia</th>\n",
              "      <th>target</th>\n",
              "    </tr>\n",
              "  </thead>\n",
              "  <tbody>\n",
              "    <tr>\n",
              "      <th>0</th>\n",
              "      <td>52</td>\n",
              "      <td>Male</td>\n",
              "      <td>Typical angina</td>\n",
              "      <td>125</td>\n",
              "      <td>212</td>\n",
              "      <td>Lower than 120 mg/ml</td>\n",
              "      <td>ST-T wave abnormality</td>\n",
              "      <td>168</td>\n",
              "      <td>No</td>\n",
              "      <td>1.0</td>\n",
              "      <td>Downsloping</td>\n",
              "      <td>Two</td>\n",
              "      <td>Reversable Defect</td>\n",
              "      <td>0</td>\n",
              "    </tr>\n",
              "    <tr>\n",
              "      <th>1</th>\n",
              "      <td>53</td>\n",
              "      <td>Male</td>\n",
              "      <td>Typical angina</td>\n",
              "      <td>140</td>\n",
              "      <td>203</td>\n",
              "      <td>Greater than 120 mg/ml</td>\n",
              "      <td>Normal</td>\n",
              "      <td>155</td>\n",
              "      <td>Yes</td>\n",
              "      <td>3.1</td>\n",
              "      <td>Upsloping</td>\n",
              "      <td>Zero</td>\n",
              "      <td>Reversable Defect</td>\n",
              "      <td>0</td>\n",
              "    </tr>\n",
              "    <tr>\n",
              "      <th>2</th>\n",
              "      <td>70</td>\n",
              "      <td>Male</td>\n",
              "      <td>Typical angina</td>\n",
              "      <td>145</td>\n",
              "      <td>174</td>\n",
              "      <td>Lower than 120 mg/ml</td>\n",
              "      <td>ST-T wave abnormality</td>\n",
              "      <td>125</td>\n",
              "      <td>Yes</td>\n",
              "      <td>2.6</td>\n",
              "      <td>Upsloping</td>\n",
              "      <td>Zero</td>\n",
              "      <td>Reversable Defect</td>\n",
              "      <td>0</td>\n",
              "    </tr>\n",
              "    <tr>\n",
              "      <th>3</th>\n",
              "      <td>61</td>\n",
              "      <td>Male</td>\n",
              "      <td>Typical angina</td>\n",
              "      <td>148</td>\n",
              "      <td>203</td>\n",
              "      <td>Lower than 120 mg/ml</td>\n",
              "      <td>ST-T wave abnormality</td>\n",
              "      <td>161</td>\n",
              "      <td>No</td>\n",
              "      <td>0.0</td>\n",
              "      <td>Downsloping</td>\n",
              "      <td>One</td>\n",
              "      <td>Reversable Defect</td>\n",
              "      <td>0</td>\n",
              "    </tr>\n",
              "    <tr>\n",
              "      <th>4</th>\n",
              "      <td>62</td>\n",
              "      <td>Female</td>\n",
              "      <td>Typical angina</td>\n",
              "      <td>138</td>\n",
              "      <td>294</td>\n",
              "      <td>Greater than 120 mg/ml</td>\n",
              "      <td>ST-T wave abnormality</td>\n",
              "      <td>106</td>\n",
              "      <td>No</td>\n",
              "      <td>1.9</td>\n",
              "      <td>Flat</td>\n",
              "      <td>Three</td>\n",
              "      <td>Fixed Defect</td>\n",
              "      <td>0</td>\n",
              "    </tr>\n",
              "  </tbody>\n",
              "</table>\n",
              "</div>\n",
              "    <div class=\"colab-df-buttons\">\n",
              "\n",
              "  <div class=\"colab-df-container\">\n",
              "    <button class=\"colab-df-convert\" onclick=\"convertToInteractive('df-988ec004-58b5-47d0-84d3-61b1da2115c6')\"\n",
              "            title=\"Convert this dataframe to an interactive table.\"\n",
              "            style=\"display:none;\">\n",
              "\n",
              "  <svg xmlns=\"http://www.w3.org/2000/svg\" height=\"24px\" viewBox=\"0 -960 960 960\">\n",
              "    <path d=\"M120-120v-720h720v720H120Zm60-500h600v-160H180v160Zm220 220h160v-160H400v160Zm0 220h160v-160H400v160ZM180-400h160v-160H180v160Zm440 0h160v-160H620v160ZM180-180h160v-160H180v160Zm440 0h160v-160H620v160Z\"/>\n",
              "  </svg>\n",
              "    </button>\n",
              "\n",
              "  <style>\n",
              "    .colab-df-container {\n",
              "      display:flex;\n",
              "      gap: 12px;\n",
              "    }\n",
              "\n",
              "    .colab-df-convert {\n",
              "      background-color: #E8F0FE;\n",
              "      border: none;\n",
              "      border-radius: 50%;\n",
              "      cursor: pointer;\n",
              "      display: none;\n",
              "      fill: #1967D2;\n",
              "      height: 32px;\n",
              "      padding: 0 0 0 0;\n",
              "      width: 32px;\n",
              "    }\n",
              "\n",
              "    .colab-df-convert:hover {\n",
              "      background-color: #E2EBFA;\n",
              "      box-shadow: 0px 1px 2px rgba(60, 64, 67, 0.3), 0px 1px 3px 1px rgba(60, 64, 67, 0.15);\n",
              "      fill: #174EA6;\n",
              "    }\n",
              "\n",
              "    .colab-df-buttons div {\n",
              "      margin-bottom: 4px;\n",
              "    }\n",
              "\n",
              "    [theme=dark] .colab-df-convert {\n",
              "      background-color: #3B4455;\n",
              "      fill: #D2E3FC;\n",
              "    }\n",
              "\n",
              "    [theme=dark] .colab-df-convert:hover {\n",
              "      background-color: #434B5C;\n",
              "      box-shadow: 0px 1px 3px 1px rgba(0, 0, 0, 0.15);\n",
              "      filter: drop-shadow(0px 1px 2px rgba(0, 0, 0, 0.3));\n",
              "      fill: #FFFFFF;\n",
              "    }\n",
              "  </style>\n",
              "\n",
              "    <script>\n",
              "      const buttonEl =\n",
              "        document.querySelector('#df-988ec004-58b5-47d0-84d3-61b1da2115c6 button.colab-df-convert');\n",
              "      buttonEl.style.display =\n",
              "        google.colab.kernel.accessAllowed ? 'block' : 'none';\n",
              "\n",
              "      async function convertToInteractive(key) {\n",
              "        const element = document.querySelector('#df-988ec004-58b5-47d0-84d3-61b1da2115c6');\n",
              "        const dataTable =\n",
              "          await google.colab.kernel.invokeFunction('convertToInteractive',\n",
              "                                                    [key], {});\n",
              "        if (!dataTable) return;\n",
              "\n",
              "        const docLinkHtml = 'Like what you see? Visit the ' +\n",
              "          '<a target=\"_blank\" href=https://colab.research.google.com/notebooks/data_table.ipynb>data table notebook</a>'\n",
              "          + ' to learn more about interactive tables.';\n",
              "        element.innerHTML = '';\n",
              "        dataTable['output_type'] = 'display_data';\n",
              "        await google.colab.output.renderOutput(dataTable, element);\n",
              "        const docLink = document.createElement('div');\n",
              "        docLink.innerHTML = docLinkHtml;\n",
              "        element.appendChild(docLink);\n",
              "      }\n",
              "    </script>\n",
              "  </div>\n",
              "\n",
              "\n",
              "<div id=\"df-226b3d05-0cca-47f2-a80f-a146c542d096\">\n",
              "  <button class=\"colab-df-quickchart\" onclick=\"quickchart('df-226b3d05-0cca-47f2-a80f-a146c542d096')\"\n",
              "            title=\"Suggest charts\"\n",
              "            style=\"display:none;\">\n",
              "\n",
              "<svg xmlns=\"http://www.w3.org/2000/svg\" height=\"24px\"viewBox=\"0 0 24 24\"\n",
              "     width=\"24px\">\n",
              "    <g>\n",
              "        <path d=\"M19 3H5c-1.1 0-2 .9-2 2v14c0 1.1.9 2 2 2h14c1.1 0 2-.9 2-2V5c0-1.1-.9-2-2-2zM9 17H7v-7h2v7zm4 0h-2V7h2v10zm4 0h-2v-4h2v4z\"/>\n",
              "    </g>\n",
              "</svg>\n",
              "  </button>\n",
              "\n",
              "<style>\n",
              "  .colab-df-quickchart {\n",
              "      --bg-color: #E8F0FE;\n",
              "      --fill-color: #1967D2;\n",
              "      --hover-bg-color: #E2EBFA;\n",
              "      --hover-fill-color: #174EA6;\n",
              "      --disabled-fill-color: #AAA;\n",
              "      --disabled-bg-color: #DDD;\n",
              "  }\n",
              "\n",
              "  [theme=dark] .colab-df-quickchart {\n",
              "      --bg-color: #3B4455;\n",
              "      --fill-color: #D2E3FC;\n",
              "      --hover-bg-color: #434B5C;\n",
              "      --hover-fill-color: #FFFFFF;\n",
              "      --disabled-bg-color: #3B4455;\n",
              "      --disabled-fill-color: #666;\n",
              "  }\n",
              "\n",
              "  .colab-df-quickchart {\n",
              "    background-color: var(--bg-color);\n",
              "    border: none;\n",
              "    border-radius: 50%;\n",
              "    cursor: pointer;\n",
              "    display: none;\n",
              "    fill: var(--fill-color);\n",
              "    height: 32px;\n",
              "    padding: 0;\n",
              "    width: 32px;\n",
              "  }\n",
              "\n",
              "  .colab-df-quickchart:hover {\n",
              "    background-color: var(--hover-bg-color);\n",
              "    box-shadow: 0 1px 2px rgba(60, 64, 67, 0.3), 0 1px 3px 1px rgba(60, 64, 67, 0.15);\n",
              "    fill: var(--button-hover-fill-color);\n",
              "  }\n",
              "\n",
              "  .colab-df-quickchart-complete:disabled,\n",
              "  .colab-df-quickchart-complete:disabled:hover {\n",
              "    background-color: var(--disabled-bg-color);\n",
              "    fill: var(--disabled-fill-color);\n",
              "    box-shadow: none;\n",
              "  }\n",
              "\n",
              "  .colab-df-spinner {\n",
              "    border: 2px solid var(--fill-color);\n",
              "    border-color: transparent;\n",
              "    border-bottom-color: var(--fill-color);\n",
              "    animation:\n",
              "      spin 1s steps(1) infinite;\n",
              "  }\n",
              "\n",
              "  @keyframes spin {\n",
              "    0% {\n",
              "      border-color: transparent;\n",
              "      border-bottom-color: var(--fill-color);\n",
              "      border-left-color: var(--fill-color);\n",
              "    }\n",
              "    20% {\n",
              "      border-color: transparent;\n",
              "      border-left-color: var(--fill-color);\n",
              "      border-top-color: var(--fill-color);\n",
              "    }\n",
              "    30% {\n",
              "      border-color: transparent;\n",
              "      border-left-color: var(--fill-color);\n",
              "      border-top-color: var(--fill-color);\n",
              "      border-right-color: var(--fill-color);\n",
              "    }\n",
              "    40% {\n",
              "      border-color: transparent;\n",
              "      border-right-color: var(--fill-color);\n",
              "      border-top-color: var(--fill-color);\n",
              "    }\n",
              "    60% {\n",
              "      border-color: transparent;\n",
              "      border-right-color: var(--fill-color);\n",
              "    }\n",
              "    80% {\n",
              "      border-color: transparent;\n",
              "      border-right-color: var(--fill-color);\n",
              "      border-bottom-color: var(--fill-color);\n",
              "    }\n",
              "    90% {\n",
              "      border-color: transparent;\n",
              "      border-bottom-color: var(--fill-color);\n",
              "    }\n",
              "  }\n",
              "</style>\n",
              "\n",
              "  <script>\n",
              "    async function quickchart(key) {\n",
              "      const quickchartButtonEl =\n",
              "        document.querySelector('#' + key + ' button');\n",
              "      quickchartButtonEl.disabled = true;  // To prevent multiple clicks.\n",
              "      quickchartButtonEl.classList.add('colab-df-spinner');\n",
              "      try {\n",
              "        const charts = await google.colab.kernel.invokeFunction(\n",
              "            'suggestCharts', [key], {});\n",
              "      } catch (error) {\n",
              "        console.error('Error during call to suggestCharts:', error);\n",
              "      }\n",
              "      quickchartButtonEl.classList.remove('colab-df-spinner');\n",
              "      quickchartButtonEl.classList.add('colab-df-quickchart-complete');\n",
              "    }\n",
              "    (() => {\n",
              "      let quickchartButtonEl =\n",
              "        document.querySelector('#df-226b3d05-0cca-47f2-a80f-a146c542d096 button');\n",
              "      quickchartButtonEl.style.display =\n",
              "        google.colab.kernel.accessAllowed ? 'block' : 'none';\n",
              "    })();\n",
              "  </script>\n",
              "</div>\n",
              "\n",
              "    </div>\n",
              "  </div>\n"
            ],
            "text/plain": [
              "   age     sex chest_pain_type  resting_blood_pressure  cholestoral  \\\n",
              "0   52    Male  Typical angina                     125          212   \n",
              "1   53    Male  Typical angina                     140          203   \n",
              "2   70    Male  Typical angina                     145          174   \n",
              "3   61    Male  Typical angina                     148          203   \n",
              "4   62  Female  Typical angina                     138          294   \n",
              "\n",
              "      fasting_blood_sugar               rest_ecg  Max_heart_rate  \\\n",
              "0    Lower than 120 mg/ml  ST-T wave abnormality             168   \n",
              "1  Greater than 120 mg/ml                 Normal             155   \n",
              "2    Lower than 120 mg/ml  ST-T wave abnormality             125   \n",
              "3    Lower than 120 mg/ml  ST-T wave abnormality             161   \n",
              "4  Greater than 120 mg/ml  ST-T wave abnormality             106   \n",
              "\n",
              "  exercise_induced_angina  oldpeak        slope vessels_colored_by_flourosopy  \\\n",
              "0                      No      1.0  Downsloping                           Two   \n",
              "1                     Yes      3.1    Upsloping                          Zero   \n",
              "2                     Yes      2.6    Upsloping                          Zero   \n",
              "3                      No      0.0  Downsloping                           One   \n",
              "4                      No      1.9         Flat                         Three   \n",
              "\n",
              "         thalassemia  target  \n",
              "0  Reversable Defect       0  \n",
              "1  Reversable Defect       0  \n",
              "2  Reversable Defect       0  \n",
              "3  Reversable Defect       0  \n",
              "4       Fixed Defect       0  "
            ]
          },
          "execution_count": 3,
          "metadata": {},
          "output_type": "execute_result"
        }
      ],
      "source": [
        "df = pd.read_csv('/content/heart.csv')\n",
        "df.head()\n"
      ]
    },
    {
      "cell_type": "code",
      "execution_count": 4,
      "metadata": {
        "colab": {
          "base_uri": "https://localhost:8080/"
        },
        "id": "HlAswE32FmAL",
        "outputId": "a1f24374-e443-4148-834d-13753b945e3e"
      },
      "outputs": [
        {
          "data": {
            "text/plain": [
              "(1025, 14)"
            ]
          },
          "execution_count": 4,
          "metadata": {},
          "output_type": "execute_result"
        }
      ],
      "source": [
        "df.shape"
      ]
    },
    {
      "cell_type": "code",
      "execution_count": 5,
      "metadata": {
        "colab": {
          "base_uri": "https://localhost:8080/",
          "height": 523
        },
        "id": "cxkcghqBFntb",
        "outputId": "f0cb4996-55a0-469f-a231-3b1f4f1df6e1"
      },
      "outputs": [
        {
          "data": {
            "text/html": [
              "<div>\n",
              "<style scoped>\n",
              "    .dataframe tbody tr th:only-of-type {\n",
              "        vertical-align: middle;\n",
              "    }\n",
              "\n",
              "    .dataframe tbody tr th {\n",
              "        vertical-align: top;\n",
              "    }\n",
              "\n",
              "    .dataframe thead th {\n",
              "        text-align: right;\n",
              "    }\n",
              "</style>\n",
              "<table border=\"1\" class=\"dataframe\">\n",
              "  <thead>\n",
              "    <tr style=\"text-align: right;\">\n",
              "      <th></th>\n",
              "      <th>0</th>\n",
              "    </tr>\n",
              "  </thead>\n",
              "  <tbody>\n",
              "    <tr>\n",
              "      <th>age</th>\n",
              "      <td>int64</td>\n",
              "    </tr>\n",
              "    <tr>\n",
              "      <th>sex</th>\n",
              "      <td>object</td>\n",
              "    </tr>\n",
              "    <tr>\n",
              "      <th>chest_pain_type</th>\n",
              "      <td>object</td>\n",
              "    </tr>\n",
              "    <tr>\n",
              "      <th>resting_blood_pressure</th>\n",
              "      <td>int64</td>\n",
              "    </tr>\n",
              "    <tr>\n",
              "      <th>cholestoral</th>\n",
              "      <td>int64</td>\n",
              "    </tr>\n",
              "    <tr>\n",
              "      <th>fasting_blood_sugar</th>\n",
              "      <td>object</td>\n",
              "    </tr>\n",
              "    <tr>\n",
              "      <th>rest_ecg</th>\n",
              "      <td>object</td>\n",
              "    </tr>\n",
              "    <tr>\n",
              "      <th>Max_heart_rate</th>\n",
              "      <td>int64</td>\n",
              "    </tr>\n",
              "    <tr>\n",
              "      <th>exercise_induced_angina</th>\n",
              "      <td>object</td>\n",
              "    </tr>\n",
              "    <tr>\n",
              "      <th>oldpeak</th>\n",
              "      <td>float64</td>\n",
              "    </tr>\n",
              "    <tr>\n",
              "      <th>slope</th>\n",
              "      <td>object</td>\n",
              "    </tr>\n",
              "    <tr>\n",
              "      <th>vessels_colored_by_flourosopy</th>\n",
              "      <td>object</td>\n",
              "    </tr>\n",
              "    <tr>\n",
              "      <th>thalassemia</th>\n",
              "      <td>object</td>\n",
              "    </tr>\n",
              "    <tr>\n",
              "      <th>target</th>\n",
              "      <td>int64</td>\n",
              "    </tr>\n",
              "  </tbody>\n",
              "</table>\n",
              "</div><br><label><b>dtype:</b> object</label>"
            ],
            "text/plain": [
              "age                                int64\n",
              "sex                               object\n",
              "chest_pain_type                   object\n",
              "resting_blood_pressure             int64\n",
              "cholestoral                        int64\n",
              "fasting_blood_sugar               object\n",
              "rest_ecg                          object\n",
              "Max_heart_rate                     int64\n",
              "exercise_induced_angina           object\n",
              "oldpeak                          float64\n",
              "slope                             object\n",
              "vessels_colored_by_flourosopy     object\n",
              "thalassemia                       object\n",
              "target                             int64\n",
              "dtype: object"
            ]
          },
          "execution_count": 5,
          "metadata": {},
          "output_type": "execute_result"
        }
      ],
      "source": [
        "df.dtypes"
      ]
    },
    {
      "cell_type": "markdown",
      "metadata": {
        "id": "hskrTuidHek1"
      },
      "source": [
        "# Displaying Count of Unique Values for Non-Numerical Columns #\n",
        "\n",
        "As you can see, some columns contain non-numerical values. In this step, we will write code for each of these columns to display the unique values and the count of each value.\n"
      ]
    },
    {
      "cell_type": "code",
      "execution_count": null,
      "metadata": {
        "colab": {
          "base_uri": "https://localhost:8080/"
        },
        "id": "6fDYK2DmHpyH",
        "outputId": "340a9f32-9b18-4d3f-ae52-a23b8158ec45"
      },
      "outputs": [
        {
          "name": "stdout",
          "output_type": "stream",
          "text": [
            "\n",
            "Column: sex\n",
            "Male      713\n",
            "Female    312\n",
            "Name: count, dtype: int64\n",
            "\n",
            "Column: chest_pain_type\n",
            "Typical angina      497\n",
            "Non-anginal pain    284\n",
            "Atypical angina     167\n",
            "Asymptomatic         77\n",
            "Name: count, dtype: int64\n",
            "\n",
            "Column: fasting_blood_sugar\n",
            "Lower than 120 mg/ml      872\n",
            "Greater than 120 mg/ml    153\n",
            "Name: count, dtype: int64\n",
            "\n",
            "Column: rest_ecg\n",
            "ST-T wave abnormality           513\n",
            "Normal                          497\n",
            "Left ventricular hypertrophy     15\n",
            "Name: count, dtype: int64\n",
            "\n",
            "Column: exercise_induced_angina\n",
            "No     680\n",
            "Yes    345\n",
            "Name: count, dtype: int64\n",
            "\n",
            "Column: slope\n",
            "Flat           482\n",
            "Downsloping    469\n",
            "Upsloping       74\n",
            "Name: count, dtype: int64\n",
            "\n",
            "Column: vessels_colored_by_flourosopy\n",
            "Zero     578\n",
            "One      226\n",
            "Two      134\n",
            "Three     69\n",
            "Four      18\n",
            "Name: count, dtype: int64\n",
            "\n",
            "Column: thalassemia\n",
            "Fixed Defect         544\n",
            "Reversable Defect    410\n",
            "Normal                64\n",
            "No                     7\n",
            "Name: count, dtype: int64\n"
          ]
        }
      ],
      "source": [
        "for col in df.columns:\n",
        "    if df[col].dtype == 'object':\n",
        "        print(f\"\\nColumn: {df[col].value_counts()}\")\n"
      ]
    },
    {
      "cell_type": "markdown",
      "metadata": {
        "id": "J38GXn5VIXzl"
      },
      "source": [
        "Displaying Count of Unique Values for Target Column"
      ]
    },
    {
      "cell_type": "code",
      "execution_count": 8,
      "metadata": {
        "colab": {
          "base_uri": "https://localhost:8080/",
          "height": 178
        },
        "id": "MRWupJdVIYS3",
        "outputId": "73d3d652-1586-4930-82ab-2035d02b9d32"
      },
      "outputs": [
        {
          "data": {
            "text/html": [
              "<div>\n",
              "<style scoped>\n",
              "    .dataframe tbody tr th:only-of-type {\n",
              "        vertical-align: middle;\n",
              "    }\n",
              "\n",
              "    .dataframe tbody tr th {\n",
              "        vertical-align: top;\n",
              "    }\n",
              "\n",
              "    .dataframe thead th {\n",
              "        text-align: right;\n",
              "    }\n",
              "</style>\n",
              "<table border=\"1\" class=\"dataframe\">\n",
              "  <thead>\n",
              "    <tr style=\"text-align: right;\">\n",
              "      <th></th>\n",
              "      <th>count</th>\n",
              "    </tr>\n",
              "    <tr>\n",
              "      <th>target</th>\n",
              "      <th></th>\n",
              "    </tr>\n",
              "  </thead>\n",
              "  <tbody>\n",
              "    <tr>\n",
              "      <th>1</th>\n",
              "      <td>526</td>\n",
              "    </tr>\n",
              "    <tr>\n",
              "      <th>0</th>\n",
              "      <td>499</td>\n",
              "    </tr>\n",
              "  </tbody>\n",
              "</table>\n",
              "</div><br><label><b>dtype:</b> int64</label>"
            ],
            "text/plain": [
              "target\n",
              "1    526\n",
              "0    499\n",
              "Name: count, dtype: int64"
            ]
          },
          "execution_count": 8,
          "metadata": {},
          "output_type": "execute_result"
        }
      ],
      "source": [
        "df['target'].value_counts()"
      ]
    },
    {
      "cell_type": "markdown",
      "metadata": {
        "id": "0bg7v_JaJEc0"
      },
      "source": [
        " Convert Categorical Columns to Numerical Values\n",
        "\n"
      ]
    },
    {
      "cell_type": "code",
      "execution_count": 9,
      "metadata": {
        "colab": {
          "base_uri": "https://localhost:8080/",
          "height": 523
        },
        "id": "T3cPdGFPIm1Q",
        "outputId": "9a89027b-4709-404c-8d80-b6f2f771b87b"
      },
      "outputs": [
        {
          "data": {
            "text/html": [
              "<div>\n",
              "<style scoped>\n",
              "    .dataframe tbody tr th:only-of-type {\n",
              "        vertical-align: middle;\n",
              "    }\n",
              "\n",
              "    .dataframe tbody tr th {\n",
              "        vertical-align: top;\n",
              "    }\n",
              "\n",
              "    .dataframe thead th {\n",
              "        text-align: right;\n",
              "    }\n",
              "</style>\n",
              "<table border=\"1\" class=\"dataframe\">\n",
              "  <thead>\n",
              "    <tr style=\"text-align: right;\">\n",
              "      <th></th>\n",
              "      <th>0</th>\n",
              "    </tr>\n",
              "  </thead>\n",
              "  <tbody>\n",
              "    <tr>\n",
              "      <th>age</th>\n",
              "      <td>int64</td>\n",
              "    </tr>\n",
              "    <tr>\n",
              "      <th>sex</th>\n",
              "      <td>int64</td>\n",
              "    </tr>\n",
              "    <tr>\n",
              "      <th>chest_pain_type</th>\n",
              "      <td>int64</td>\n",
              "    </tr>\n",
              "    <tr>\n",
              "      <th>resting_blood_pressure</th>\n",
              "      <td>int64</td>\n",
              "    </tr>\n",
              "    <tr>\n",
              "      <th>cholestoral</th>\n",
              "      <td>int64</td>\n",
              "    </tr>\n",
              "    <tr>\n",
              "      <th>fasting_blood_sugar</th>\n",
              "      <td>int64</td>\n",
              "    </tr>\n",
              "    <tr>\n",
              "      <th>rest_ecg</th>\n",
              "      <td>int64</td>\n",
              "    </tr>\n",
              "    <tr>\n",
              "      <th>Max_heart_rate</th>\n",
              "      <td>int64</td>\n",
              "    </tr>\n",
              "    <tr>\n",
              "      <th>exercise_induced_angina</th>\n",
              "      <td>int64</td>\n",
              "    </tr>\n",
              "    <tr>\n",
              "      <th>oldpeak</th>\n",
              "      <td>float64</td>\n",
              "    </tr>\n",
              "    <tr>\n",
              "      <th>slope</th>\n",
              "      <td>int64</td>\n",
              "    </tr>\n",
              "    <tr>\n",
              "      <th>vessels_colored_by_flourosopy</th>\n",
              "      <td>int64</td>\n",
              "    </tr>\n",
              "    <tr>\n",
              "      <th>thalassemia</th>\n",
              "      <td>int64</td>\n",
              "    </tr>\n",
              "    <tr>\n",
              "      <th>target</th>\n",
              "      <td>int64</td>\n",
              "    </tr>\n",
              "  </tbody>\n",
              "</table>\n",
              "</div><br><label><b>dtype:</b> object</label>"
            ],
            "text/plain": [
              "age                                int64\n",
              "sex                                int64\n",
              "chest_pain_type                    int64\n",
              "resting_blood_pressure             int64\n",
              "cholestoral                        int64\n",
              "fasting_blood_sugar                int64\n",
              "rest_ecg                           int64\n",
              "Max_heart_rate                     int64\n",
              "exercise_induced_angina            int64\n",
              "oldpeak                          float64\n",
              "slope                              int64\n",
              "vessels_colored_by_flourosopy      int64\n",
              "thalassemia                        int64\n",
              "target                             int64\n",
              "dtype: object"
            ]
          },
          "execution_count": 9,
          "metadata": {},
          "output_type": "execute_result"
        }
      ],
      "source": [
        "categorical_columns = [col for col in df.columns if df[col].dtype == 'object']\n",
        "\n",
        "for col in categorical_columns:\n",
        "    df[col] = LabelEncoder().fit_transform(df[col])\n",
        "\n",
        "df.dtypes"
      ]
    },
    {
      "cell_type": "markdown",
      "metadata": {
        "id": "wv-m0JM7KXo5"
      },
      "source": [
        "### Creating Train and Test Data"
      ]
    },
    {
      "cell_type": "code",
      "execution_count": 10,
      "metadata": {
        "colab": {
          "base_uri": "https://localhost:8080/"
        },
        "id": "3uGg-pUaJffA",
        "outputId": "597fc846-bc69-41fe-b548-92530f6a1efc"
      },
      "outputs": [
        {
          "data": {
            "text/plain": [
              "((1025, 13), (1025,))"
            ]
          },
          "execution_count": 10,
          "metadata": {},
          "output_type": "execute_result"
        }
      ],
      "source": [
        "X = df.drop(columns='target')\n",
        "y = df['target']\n",
        "X.shape, y.shape"
      ]
    },
    {
      "cell_type": "code",
      "execution_count": 11,
      "metadata": {
        "colab": {
          "base_uri": "https://localhost:8080/"
        },
        "id": "Ne7jAATNfX43",
        "outputId": "5d73dfa4-be1a-42e2-e786-214c6b9d7586"
      },
      "outputs": [
        {
          "data": {
            "text/plain": [
              "((820,), (205,))"
            ]
          },
          "execution_count": 11,
          "metadata": {},
          "output_type": "execute_result"
        }
      ],
      "source": [
        "# Split train and test with 80-20 proportion\n",
        "X_train, X_test, y_train, y_test = train_test_split(X, y, test_size=0.2, random_state=42)\n",
        "y_train.shape, y_test.shape"
      ]
    },
    {
      "cell_type": "code",
      "execution_count": 12,
      "metadata": {
        "colab": {
          "base_uri": "https://localhost:8080/"
        },
        "id": "IvZQ-2SJKhnq",
        "outputId": "1d7e2de4-bb28-4237-d4f3-697d0a563957"
      },
      "outputs": [
        {
          "data": {
            "text/plain": [
              "((820, 1), (205, 1))"
            ]
          },
          "execution_count": 12,
          "metadata": {},
          "output_type": "execute_result"
        }
      ],
      "source": [
        "# Reshaping Target Variables for Matrix Computations\n",
        "y_train = y_train.values.reshape(-1, 1)\n",
        "y_test = y_test.values.reshape(-1, 1)\n",
        "y_train.shape, y_test.shape"
      ]
    },
    {
      "cell_type": "markdown",
      "metadata": {
        "id": "uT2ebZSHLrl1"
      },
      "source": [
        "## Feature Scaling\n",
        "\n",
        "In this step, we will apply **Standard Scaling** to normalize the features of the training and test sets."
      ]
    },
    {
      "cell_type": "code",
      "execution_count": 13,
      "metadata": {
        "id": "iYYJmX_jLSDJ"
      },
      "outputs": [],
      "source": [
        "scaler = StandardScaler()\n",
        "X_train = scaler.fit_transform(X_train)\n",
        "X_test = scaler.transform(X_test)"
      ]
    },
    {
      "cell_type": "markdown",
      "metadata": {
        "id": "_qz59bynR_RR"
      },
      "source": [
        "## Custom Logistic Regression Class\n",
        "\n",
        "In this section, we implement a custom Logistic Regression classifier from scratch using **Stochastic Gradient Descent (SGD)**. The class `MyLogisticRegBinary` inherits from `BaseEstimator` and `ClassifierMixin` to integrate with Scikit-learn.\n",
        "The model is designed to train efficiently with the SGD method and can be used for binary classification tasks."
      ]
    },
    {
      "cell_type": "code",
      "execution_count": 18,
      "metadata": {
        "id": "uF7WycEgL4tH"
      },
      "outputs": [],
      "source": [
        "class MyLogisticRegBinary(BaseEstimator, ClassifierMixin):\n",
        "    def __init__(self):\n",
        "        self.params = {}\n",
        "        self.verbose = 0\n",
        "\n",
        "\n",
        "    def init_params(self, X):\n",
        "        \"\"\"Randomly initializing parameters for logistic regression.\n",
        "\n",
        "        In this function, we initialize the slope coefficients and\n",
        "        the intercept randomly using a normal distribution.\n",
        "\n",
        "        \"\"\"\n",
        "        np.random.seed(42)\n",
        "        n_features = X.shape[1]\n",
        "        self.params['coef'] = np.random.randn(1, n_features)\n",
        "        self.params['intercept'] = np.random.randn(1)\n",
        "\n",
        "        if self.verbose:\n",
        "            print(\"[INFO] Initialized parameters.\")\n",
        "            print(f\"Shape of coefficient matrix: {self.params['coef'].shape}\")\n",
        "            print(f\"Shape of intercept matrix: {self.params['intercept'].shape}\")\n",
        "\n",
        "    def get_logits(self, X, y=None):\n",
        "        \"\"\"Calculate logits for logistic regression.\n",
        "        \"\"\"\n",
        "        if 'coef' not in self.params:\n",
        "            self.init_params(X)\n",
        "\n",
        "        return np.dot(X, self.params['coef'].T) + self.params['intercept']\n",
        "\n",
        "    def predict_proba(self, X, y=None):\n",
        "        \"\"\"\n",
        "        Compute probabilities for binary classification using the sigmoid function.\n",
        "        The sigmoid function is defined as: 1 / (1 + exp(-logits)).\n",
        "        \"\"\"\n",
        "        logits = self.get_logits(X)\n",
        "\n",
        "        return 1 / (1 + np.exp(-logits))\n",
        "\n",
        "    def fit(self, X, y, learning_rate=0.05, iterations=1000, verbose=0):\n",
        "        \"\"\"Train the logistic regression model using Stochastic Gradient Descent (SGD). \"\"\"\n",
        "        self.verbose = verbose\n",
        "\n",
        "        if isinstance(X, pd.DataFrame):\n",
        "            X = X.values\n",
        "\n",
        "        self.init_params(X)\n",
        "        m = X.shape[0]\n",
        "\n",
        "        if verbose:\n",
        "            print(\"[INFO] Training with Stochastic Gradient Descent ...\")\n",
        "\n",
        "        for i in range(1, iterations + 1):\n",
        "            total_loss = 0\n",
        "\n",
        "            indices = np.arange(m)\n",
        "            np.random.shuffle(indices)\n",
        "\n",
        "            for idx in indices:\n",
        "                X_sample = X[idx].reshape(1, -1)\n",
        "                y_sample = np.array([y[idx]])\n",
        "\n",
        "                # Compute the probability (prediction) using the predict_proba function\n",
        "                y_proba = self.predict_proba(X_sample)\n",
        "                loss = log_loss(y_sample, y_proba, labels=[0, 1])\n",
        "                total_loss += loss\n",
        "\n",
        "                # Compute the gradients (dW and db)\n",
        "                error = y_proba - y_sample\n",
        "                dW = np.dot(error.T, X_sample)\n",
        "                db = error\n",
        "\n",
        "\n",
        "                self.params['coef'] -= learning_rate * dW\n",
        "                self.params['intercept'] -= learning_rate * db.flatten()\n",
        "\n",
        "            avg_loss = total_loss / m\n",
        "\n",
        "            if verbose and (i == 1 or i % 10 == 0):\n",
        "                print(f\"\\nIteration {i}/{iterations}\", end=\" \")\n",
        "                print(f\"Loss: {avg_loss}\")\n",
        "\n",
        "    def predict(self, X, threshold=0.5):\n",
        "        \"\"\"Make predictions using the logistic regression model.\n",
        "        \"\"\"\n",
        "        y_proba = self.predict_proba(X)\n",
        "        y_pred = (y_proba >= threshold).astype(int)\n",
        "        return y_pred\n",
        "\n"
      ]
    },
    {
      "cell_type": "code",
      "execution_count": 19,
      "metadata": {
        "colab": {
          "base_uri": "https://localhost:8080/"
        },
        "id": "qc6sHlOBWGdY",
        "outputId": "22a3ddc7-f69b-4dfe-cfa5-f0aed095ebf8"
      },
      "outputs": [
        {
          "name": "stdout",
          "output_type": "stream",
          "text": [
            "[INFO] Initialized parameters.\n",
            "Shape of coefficient matrix: (1, 13)\n",
            "Shape of intercept matrix: (1,)\n",
            "[INFO] Training with Stochastic Gradient Descent ...\n",
            "\n",
            "Iteration 1/50 Loss: 0.752035573347232\n",
            "\n",
            "Iteration 10/50 Loss: 0.348940149176461\n",
            "\n",
            "Iteration 20/50 Loss: 0.3490032614565787\n",
            "\n",
            "Iteration 30/50 Loss: 0.34851919662830005\n",
            "\n",
            "Iteration 40/50 Loss: 0.34890079786205724\n",
            "\n",
            "Iteration 50/50 Loss: 0.3484438228902177\n"
          ]
        }
      ],
      "source": [
        "my_log_reg = MyLogisticRegBinary()\n",
        "my_log_reg.fit(X_train, y_train, learning_rate=0.01, iterations=50, verbose=1)"
      ]
    },
    {
      "cell_type": "code",
      "execution_count": 20,
      "metadata": {
        "colab": {
          "base_uri": "https://localhost:8080/"
        },
        "id": "hRFFCH3FWL3Q",
        "outputId": "939090a6-7b77-42e7-811a-f32dbfaea996"
      },
      "outputs": [
        {
          "name": "stdout",
          "output_type": "stream",
          "text": [
            "My implementation:\n",
            "0.7902439024390244\n"
          ]
        }
      ],
      "source": [
        "y_pred = my_log_reg.predict(X_test)\n",
        "print(\"My implementation:\")\n",
        "print(accuracy_score(y_test, y_pred))"
      ]
    },
    {
      "cell_type": "markdown",
      "metadata": {
        "id": "OJOyHju9WuYW"
      },
      "source": [
        "### Plotting the Confusion Matrix\n",
        "\n",
        "In this step, we compute and visualize the confusion matrix using a heatmap by seaborn"
      ]
    },
    {
      "cell_type": "code",
      "execution_count": 21,
      "metadata": {
        "colab": {
          "base_uri": "https://localhost:8080/",
          "height": 472
        },
        "id": "n9W_0MIXWsh1",
        "outputId": "86e4b403-db34-47c2-e757-2b0632b07a1b"
      },
      "outputs": [
        {
          "data": {
            "image/png": "[encoded data removed]",
            "text/plain": [
              "<Figure size 640x480 with 2 Axes>"
            ]
          },
          "metadata": {},
          "output_type": "display_data"
        }
      ],
      "source": [
        "conf_matrix = confusion_matrix(y_test, y_pred)\n",
        "sns.heatmap(conf_matrix, annot=True, fmt='d', cmap='Blues')\n",
        "plt.title(\"Confusion Matrix - Custom Model\")\n",
        "plt.xlabel(\"Predicted\")\n",
        "plt.ylabel(\"Actual\")\n",
        "plt.show()"
      ]
    },
    {
      "cell_type": "markdown",
      "metadata": {
        "id": "C9Op7zhRZKW8"
      },
      "source": [
        "### Using Scikit-Learn's Built-in SGDClassifier\n",
        "\n",
        "In this section, we will use Scikit-learn's `SGDClassifier` to implement logistic regression with Stochastic Gradient Descent (SGD). This is a built-in implementation, which abstracts away the low-level details like parameter initialization and gradient updates."
      ]
    },
    {
      "cell_type": "code",
      "execution_count": 22,
      "metadata": {
        "colab": {
          "base_uri": "https://localhost:8080/"
        },
        "id": "mYHmctynZK4M",
        "outputId": "46e74a2f-609a-403c-ec19-5b911c39acef"
      },
      "outputs": [
        {
          "name": "stdout",
          "output_type": "stream",
          "text": [
            "Epoch 1 - Loss: 0.355377\n",
            "Epoch 10 - Loss: 0.343741\n",
            "Epoch 20 - Loss: 0.343730\n",
            "Epoch 30 - Loss: 0.343730\n",
            "Epoch 40 - Loss: 0.343730\n",
            "Epoch 50 - Loss: 0.343730\n"
          ]
        }
      ],
      "source": [
        "sgd_classifier = SGDClassifier(loss='log_loss', learning_rate='constant', eta0=0.01, random_state=42, max_iter=1, warm_start=True)\n",
        "\n",
        "epochs = 50\n",
        "\n",
        "for i in range(1, epochs + 1):\n",
        "    # Update the model incrementally using the training data and true labels, adjusting the model parameters\n",
        "    # based on the gradient of the loss function for one batch of data.\n",
        "    sgd_classifier.fit(X_train, y_train.ravel())\n",
        "\n",
        "    # Compute logistic_regression_loss\n",
        "    y_proba = sgd_classifier.predict_proba(X_train)\n",
        "    avg_loss = log_loss(y_train, y_proba)\n",
        "\n",
        "    if i == 1 or i % 10 == 0:\n",
        "        print(f\"Epoch {i} - Loss: {avg_loss:.6f}\")"
      ]
    },
    {
      "cell_type": "code",
      "execution_count": 23,
      "metadata": {
        "colab": {
          "base_uri": "https://localhost:8080/"
        },
        "id": "G6UtoSFoapsi",
        "outputId": "21597a25-e1ed-411c-8114-fb0dcecb9f9f"
      },
      "outputs": [
        {
          "name": "stdout",
          "output_type": "stream",
          "text": [
            "Scikit-learn implementation:\n",
            "0.7951219512195122\n"
          ]
        }
      ],
      "source": [
        "sk_y_pred = sgd_classifier.predict(X_test)\n",
        "print(\"Scikit-learn implementation:\")\n",
        "print(accuracy_score(y_test, sk_y_pred))"
      ]
    },
    {
      "cell_type": "markdown",
      "metadata": {
        "id": "y-pOOhYZauKD"
      },
      "source": [
        "### Confusion Matrix in Scikit-learn implementation"
      ]
    },
    {
      "cell_type": "code",
      "execution_count": 24,
      "metadata": {
        "colab": {
          "base_uri": "https://localhost:8080/"
        },
        "id": "bFzm3oeIaqrL",
        "outputId": "636c6aba-8287-46e6-bcd3-b069ae12b315"
      },
      "outputs": [
        {
          "name": "stdout",
          "output_type": "stream",
          "text": [
            "Scikit-learn implementation:\n",
            "0.7951219512195122\n"
          ]
        }
      ],
      "source": [
        "sk_y_pred = sgd_classifier.predict(X_test)\n",
        "print(\"Scikit-learn implementation:\")\n",
        "print(accuracy_score(y_test, sk_y_pred))"
      ]
    }
  ],
  "metadata": {
    "colab": {
      "provenance": []
    },
    "kernelspec": {
      "display_name": "Python 3",
      "name": "python3"
    },
    "language_info": {
      "name": "python"
    }
  },
  "nbformat": 4,
  "nbformat_minor": 0
}
